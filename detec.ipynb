{
 "cells": [
  {
   "cell_type": "code",
   "execution_count": 4,
   "metadata": {
    "executionInfo": {
     "elapsed": 296,
     "status": "ok",
     "timestamp": 1653068935651,
     "user": {
      "displayName": "FAİDE KARATAŞ",
      "userId": "05982952141663902823"
     },
     "user_tz": -180
    },
    "id": "jrvRLK-bOdSu"
   },
   "outputs": [],
   "source": [
    "import pandas as pd \n",
    "import matplotlib.pyplot as plt\n",
    "import numpy as np \n",
    "import seaborn as sns"
   ]
  },
  {
   "cell_type": "code",
   "execution_count": 5,
   "metadata": {
    "colab": {
     "base_uri": "https://localhost:8080/",
     "height": 269
    },
    "executionInfo": {
     "elapsed": 37,
     "status": "ok",
     "timestamp": 1653068936019,
     "user": {
      "displayName": "FAİDE KARATAŞ",
      "userId": "05982952141663902823"
     },
     "user_tz": -180
    },
    "id": "v9MIhfyvPbLg",
    "outputId": "682bdb2e-9471-441c-d80d-925896150ed2"
   },
   "outputs": [
    {
     "data": {
      "text/html": [
       "\n",
       "  <div id=\"df-c587a3a6-dd4a-4263-96d9-44fd65cd2a0d\">\n",
       "    <div class=\"colab-df-container\">\n",
       "      <div>\n",
       "<style scoped>\n",
       "    .dataframe tbody tr th:only-of-type {\n",
       "        vertical-align: middle;\n",
       "    }\n",
       "\n",
       "    .dataframe tbody tr th {\n",
       "        vertical-align: top;\n",
       "    }\n",
       "\n",
       "    .dataframe thead th {\n",
       "        text-align: right;\n",
       "    }\n",
       "</style>\n",
       "<table border=\"1\" class=\"dataframe\">\n",
       "  <thead>\n",
       "    <tr style=\"text-align: right;\">\n",
       "      <th></th>\n",
       "      <th>id</th>\n",
       "      <th>diagnosis</th>\n",
       "      <th>TP53</th>\n",
       "      <th>PTEN</th>\n",
       "      <th>EGFR</th>\n",
       "      <th>KRAS</th>\n",
       "      <th>FGFR1</th>\n",
       "      <th>ALK</th>\n",
       "      <th>METex14</th>\n",
       "      <th>MET</th>\n",
       "      <th>BRAF</th>\n",
       "      <th>PIK3CA</th>\n",
       "      <th>ROS1</th>\n",
       "      <th>HER2</th>\n",
       "      <th>RET</th>\n",
       "    </tr>\n",
       "  </thead>\n",
       "  <tbody>\n",
       "    <tr>\n",
       "      <th>0</th>\n",
       "      <td>1001</td>\n",
       "      <td>B</td>\n",
       "      <td>0</td>\n",
       "      <td>0</td>\n",
       "      <td>0</td>\n",
       "      <td>0</td>\n",
       "      <td>0</td>\n",
       "      <td>0</td>\n",
       "      <td>0</td>\n",
       "      <td>1</td>\n",
       "      <td>0</td>\n",
       "      <td>0</td>\n",
       "      <td>0</td>\n",
       "      <td>0</td>\n",
       "      <td>0</td>\n",
       "    </tr>\n",
       "    <tr>\n",
       "      <th>1</th>\n",
       "      <td>1002</td>\n",
       "      <td>B</td>\n",
       "      <td>0</td>\n",
       "      <td>0</td>\n",
       "      <td>0</td>\n",
       "      <td>0</td>\n",
       "      <td>0</td>\n",
       "      <td>0</td>\n",
       "      <td>0</td>\n",
       "      <td>0</td>\n",
       "      <td>1</td>\n",
       "      <td>0</td>\n",
       "      <td>0</td>\n",
       "      <td>0</td>\n",
       "      <td>0</td>\n",
       "    </tr>\n",
       "    <tr>\n",
       "      <th>2</th>\n",
       "      <td>1003</td>\n",
       "      <td>B</td>\n",
       "      <td>0</td>\n",
       "      <td>0</td>\n",
       "      <td>0</td>\n",
       "      <td>0</td>\n",
       "      <td>0</td>\n",
       "      <td>0</td>\n",
       "      <td>0</td>\n",
       "      <td>0</td>\n",
       "      <td>0</td>\n",
       "      <td>0</td>\n",
       "      <td>1</td>\n",
       "      <td>0</td>\n",
       "      <td>0</td>\n",
       "    </tr>\n",
       "    <tr>\n",
       "      <th>3</th>\n",
       "      <td>1004</td>\n",
       "      <td>B</td>\n",
       "      <td>0</td>\n",
       "      <td>0</td>\n",
       "      <td>0</td>\n",
       "      <td>0</td>\n",
       "      <td>0</td>\n",
       "      <td>1</td>\n",
       "      <td>0</td>\n",
       "      <td>0</td>\n",
       "      <td>0</td>\n",
       "      <td>0</td>\n",
       "      <td>0</td>\n",
       "      <td>0</td>\n",
       "      <td>0</td>\n",
       "    </tr>\n",
       "    <tr>\n",
       "      <th>4</th>\n",
       "      <td>1005</td>\n",
       "      <td>M</td>\n",
       "      <td>1</td>\n",
       "      <td>0</td>\n",
       "      <td>0</td>\n",
       "      <td>0</td>\n",
       "      <td>1</td>\n",
       "      <td>0</td>\n",
       "      <td>0</td>\n",
       "      <td>0</td>\n",
       "      <td>0</td>\n",
       "      <td>0</td>\n",
       "      <td>0</td>\n",
       "      <td>0</td>\n",
       "      <td>0</td>\n",
       "    </tr>\n",
       "    <tr>\n",
       "      <th>5</th>\n",
       "      <td>1006</td>\n",
       "      <td>B</td>\n",
       "      <td>0</td>\n",
       "      <td>0</td>\n",
       "      <td>0</td>\n",
       "      <td>0</td>\n",
       "      <td>0</td>\n",
       "      <td>0</td>\n",
       "      <td>0</td>\n",
       "      <td>0</td>\n",
       "      <td>0</td>\n",
       "      <td>0</td>\n",
       "      <td>0</td>\n",
       "      <td>1</td>\n",
       "      <td>0</td>\n",
       "    </tr>\n",
       "    <tr>\n",
       "      <th>6</th>\n",
       "      <td>1007</td>\n",
       "      <td>B</td>\n",
       "      <td>0</td>\n",
       "      <td>0</td>\n",
       "      <td>0</td>\n",
       "      <td>0</td>\n",
       "      <td>0</td>\n",
       "      <td>0</td>\n",
       "      <td>0</td>\n",
       "      <td>0</td>\n",
       "      <td>0</td>\n",
       "      <td>0</td>\n",
       "      <td>1</td>\n",
       "      <td>0</td>\n",
       "      <td>0</td>\n",
       "    </tr>\n",
       "  </tbody>\n",
       "</table>\n",
       "</div>\n",
       "      <button class=\"colab-df-convert\" onclick=\"convertToInteractive('df-c587a3a6-dd4a-4263-96d9-44fd65cd2a0d')\"\n",
       "              title=\"Convert this dataframe to an interactive table.\"\n",
       "              style=\"display:none;\">\n",
       "        \n",
       "  <svg xmlns=\"http://www.w3.org/2000/svg\" height=\"24px\"viewBox=\"0 0 24 24\"\n",
       "       width=\"24px\">\n",
       "    <path d=\"M0 0h24v24H0V0z\" fill=\"none\"/>\n",
       "    <path d=\"M18.56 5.44l.94 2.06.94-2.06 2.06-.94-2.06-.94-.94-2.06-.94 2.06-2.06.94zm-11 1L8.5 8.5l.94-2.06 2.06-.94-2.06-.94L8.5 2.5l-.94 2.06-2.06.94zm10 10l.94 2.06.94-2.06 2.06-.94-2.06-.94-.94-2.06-.94 2.06-2.06.94z\"/><path d=\"M17.41 7.96l-1.37-1.37c-.4-.4-.92-.59-1.43-.59-.52 0-1.04.2-1.43.59L10.3 9.45l-7.72 7.72c-.78.78-.78 2.05 0 2.83L4 21.41c.39.39.9.59 1.41.59.51 0 1.02-.2 1.41-.59l7.78-7.78 2.81-2.81c.8-.78.8-2.07 0-2.86zM5.41 20L4 18.59l7.72-7.72 1.47 1.35L5.41 20z\"/>\n",
       "  </svg>\n",
       "      </button>\n",
       "      \n",
       "  <style>\n",
       "    .colab-df-container {\n",
       "      display:flex;\n",
       "      flex-wrap:wrap;\n",
       "      gap: 12px;\n",
       "    }\n",
       "\n",
       "    .colab-df-convert {\n",
       "      background-color: #E8F0FE;\n",
       "      border: none;\n",
       "      border-radius: 50%;\n",
       "      cursor: pointer;\n",
       "      display: none;\n",
       "      fill: #1967D2;\n",
       "      height: 32px;\n",
       "      padding: 0 0 0 0;\n",
       "      width: 32px;\n",
       "    }\n",
       "\n",
       "    .colab-df-convert:hover {\n",
       "      background-color: #E2EBFA;\n",
       "      box-shadow: 0px 1px 2px rgba(60, 64, 67, 0.3), 0px 1px 3px 1px rgba(60, 64, 67, 0.15);\n",
       "      fill: #174EA6;\n",
       "    }\n",
       "\n",
       "    [theme=dark] .colab-df-convert {\n",
       "      background-color: #3B4455;\n",
       "      fill: #D2E3FC;\n",
       "    }\n",
       "\n",
       "    [theme=dark] .colab-df-convert:hover {\n",
       "      background-color: #434B5C;\n",
       "      box-shadow: 0px 1px 3px 1px rgba(0, 0, 0, 0.15);\n",
       "      filter: drop-shadow(0px 1px 2px rgba(0, 0, 0, 0.3));\n",
       "      fill: #FFFFFF;\n",
       "    }\n",
       "  </style>\n",
       "\n",
       "      <script>\n",
       "        const buttonEl =\n",
       "          document.querySelector('#df-c587a3a6-dd4a-4263-96d9-44fd65cd2a0d button.colab-df-convert');\n",
       "        buttonEl.style.display =\n",
       "          google.colab.kernel.accessAllowed ? 'block' : 'none';\n",
       "\n",
       "        async function convertToInteractive(key) {\n",
       "          const element = document.querySelector('#df-c587a3a6-dd4a-4263-96d9-44fd65cd2a0d');\n",
       "          const dataTable =\n",
       "            await google.colab.kernel.invokeFunction('convertToInteractive',\n",
       "                                                     [key], {});\n",
       "          if (!dataTable) return;\n",
       "\n",
       "          const docLinkHtml = 'Like what you see? Visit the ' +\n",
       "            '<a target=\"_blank\" href=https://colab.research.google.com/notebooks/data_table.ipynb>data table notebook</a>'\n",
       "            + ' to learn more about interactive tables.';\n",
       "          element.innerHTML = '';\n",
       "          dataTable['output_type'] = 'display_data';\n",
       "          await google.colab.output.renderOutput(dataTable, element);\n",
       "          const docLink = document.createElement('div');\n",
       "          docLink.innerHTML = docLinkHtml;\n",
       "          element.appendChild(docLink);\n",
       "        }\n",
       "      </script>\n",
       "    </div>\n",
       "  </div>\n",
       "  "
      ],
      "text/plain": [
       "     id diagnosis  TP53  PTEN  EGFR  KRAS  FGFR1  ALK  METex14  MET  BRAF  \\\n",
       "0  1001         B     0     0     0     0      0    0        0    1     0   \n",
       "1  1002         B     0     0     0     0      0    0        0    0     1   \n",
       "2  1003         B     0     0     0     0      0    0        0    0     0   \n",
       "3  1004         B     0     0     0     0      0    1        0    0     0   \n",
       "4  1005         M     1     0     0     0      1    0        0    0     0   \n",
       "5  1006         B     0     0     0     0      0    0        0    0     0   \n",
       "6  1007         B     0     0     0     0      0    0        0    0     0   \n",
       "\n",
       "   PIK3CA  ROS1  HER2  RET  \n",
       "0       0     0     0    0  \n",
       "1       0     0     0    0  \n",
       "2       0     1     0    0  \n",
       "3       0     0     0    0  \n",
       "4       0     0     0    0  \n",
       "5       0     0     1    0  \n",
       "6       0     1     0    0  "
      ]
     },
     "execution_count": 5,
     "metadata": {},
     "output_type": "execute_result"
    }
   ],
   "source": [
    "LC=pd.read_csv('/content/drive/MyDrive/oruntuodev/LC.csv')\n",
    "LC.head(7)"
   ]
  },
  {
   "cell_type": "code",
   "execution_count": 6,
   "metadata": {
    "colab": {
     "base_uri": "https://localhost:8080/"
    },
    "executionInfo": {
     "elapsed": 33,
     "status": "ok",
     "timestamp": 1653068936020,
     "user": {
      "displayName": "FAİDE KARATAŞ",
      "userId": "05982952141663902823"
     },
     "user_tz": -180
    },
    "id": "HLu2FyaJPhZf",
    "outputId": "8ad7ae15-2926-4ca9-b172-00edff878635"
   },
   "outputs": [
    {
     "data": {
      "text/plain": [
       "(128, 15)"
      ]
     },
     "execution_count": 6,
     "metadata": {},
     "output_type": "execute_result"
    }
   ],
   "source": [
    "LC.shape"
   ]
  },
  {
   "cell_type": "code",
   "execution_count": 7,
   "metadata": {
    "colab": {
     "base_uri": "https://localhost:8080/"
    },
    "executionInfo": {
     "elapsed": 26,
     "status": "ok",
     "timestamp": 1653068936021,
     "user": {
      "displayName": "FAİDE KARATAŞ",
      "userId": "05982952141663902823"
     },
     "user_tz": -180
    },
    "id": "9c43NEOdPl8d",
    "outputId": "c0231906-58e2-49e5-bcb8-0e1a1e10237a"
   },
   "outputs": [
    {
     "data": {
      "text/plain": [
       "id           0\n",
       "diagnosis    0\n",
       "TP53         0\n",
       "PTEN         0\n",
       "EGFR         0\n",
       "KRAS         0\n",
       "FGFR1        0\n",
       "ALK          0\n",
       "METex14      0\n",
       "MET          0\n",
       "BRAF         0\n",
       "PIK3CA       0\n",
       "ROS1         0\n",
       "HER2         0\n",
       "RET          0\n",
       "dtype: int64"
      ]
     },
     "execution_count": 7,
     "metadata": {},
     "output_type": "execute_result"
    }
   ],
   "source": [
    "LC.isna().sum()"
   ]
  },
  {
   "cell_type": "code",
   "execution_count": 8,
   "metadata": {
    "colab": {
     "base_uri": "https://localhost:8080/"
    },
    "executionInfo": {
     "elapsed": 20,
     "status": "ok",
     "timestamp": 1653068936022,
     "user": {
      "displayName": "FAİDE KARATAŞ",
      "userId": "05982952141663902823"
     },
     "user_tz": -180
    },
    "id": "V__YVf2XPnqt",
    "outputId": "e85238ef-0e69-41ce-ee3a-4e95172589aa"
   },
   "outputs": [
    {
     "data": {
      "text/plain": [
       "M    92\n",
       "B    36\n",
       "Name: diagnosis, dtype: int64"
      ]
     },
     "execution_count": 8,
     "metadata": {},
     "output_type": "execute_result"
    }
   ],
   "source": [
    "LC['diagnosis'].value_counts()"
   ]
  },
  {
   "cell_type": "code",
   "execution_count": 9,
   "metadata": {
    "colab": {
     "base_uri": "https://localhost:8080/",
     "height": 351
    },
    "executionInfo": {
     "elapsed": 394,
     "status": "ok",
     "timestamp": 1653068936403,
     "user": {
      "displayName": "FAİDE KARATAŞ",
      "userId": "05982952141663902823"
     },
     "user_tz": -180
    },
    "id": "dC5abd4iPqa8",
    "outputId": "33410192-4353-44e4-f519-1fd78904575d"
   },
   "outputs": [
    {
     "name": "stderr",
     "output_type": "stream",
     "text": [
      "/usr/local/lib/python3.7/dist-packages/seaborn/_decorators.py:43: FutureWarning: Pass the following variable as a keyword arg: x. From version 0.12, the only valid positional argument will be `data`, and passing other arguments without an explicit keyword will result in an error or misinterpretation.\n",
      "  FutureWarning\n"
     ]
    },
    {
     "data": {
      "text/plain": [
       "<matplotlib.axes._subplots.AxesSubplot at 0x7efe8a408850>"
      ]
     },
     "execution_count": 9,
     "metadata": {},
     "output_type": "execute_result"
    },
    {
     "data": {
      "image/png": "[encoded data removed]",
      "text/plain": [
       "<Figure size 432x288 with 1 Axes>"
      ]
     },
     "metadata": {
      "needs_background": "light"
     },
     "output_type": "display_data"
    }
   ],
   "source": [
    "sns.countplot(LC['diagnosis'],label=\"Count\")\n",
    "#M=malignant-kötü huylu, B=benign-iyi huylu"
   ]
  },
  {
   "cell_type": "code",
   "execution_count": 10,
   "metadata": {
    "colab": {
     "base_uri": "https://localhost:8080/"
    },
    "executionInfo": {
     "elapsed": 7,
     "status": "ok",
     "timestamp": 1653068936403,
     "user": {
      "displayName": "FAİDE KARATAŞ",
      "userId": "05982952141663902823"
     },
     "user_tz": -180
    },
    "id": "FY7PEJUJPvf9",
    "outputId": "b9dd2922-fc50-4a37-ae6a-c7c7b6783073"
   },
   "outputs": [
    {
     "data": {
      "text/plain": [
       "id            int64\n",
       "diagnosis    object\n",
       "TP53          int64\n",
       "PTEN          int64\n",
       "EGFR          int64\n",
       "KRAS          int64\n",
       "FGFR1         int64\n",
       "ALK           int64\n",
       "METex14       int64\n",
       "MET           int64\n",
       "BRAF          int64\n",
       "PIK3CA        int64\n",
       "ROS1          int64\n",
       "HER2          int64\n",
       "RET           int64\n",
       "dtype: object"
      ]
     },
     "execution_count": 10,
     "metadata": {},
     "output_type": "execute_result"
    }
   ],
   "source": [
    "LC.dtypes"
   ]
  },
  {
   "cell_type": "code",
   "execution_count": 11,
   "metadata": {
    "colab": {
     "base_uri": "https://localhost:8080/"
    },
    "executionInfo": {
     "elapsed": 572,
     "status": "ok",
     "timestamp": 1653068936971,
     "user": {
      "displayName": "FAİDE KARATAŞ",
      "userId": "05982952141663902823"
     },
     "user_tz": -180
    },
    "id": "cu1sLtMXPwJl",
    "outputId": "6d8d1c28-e522-4b37-f075-047deff6858d"
   },
   "outputs": [
    {
     "data": {
      "text/plain": [
       "0      0\n",
       "1      0\n",
       "2      0\n",
       "3      0\n",
       "4      1\n",
       "      ..\n",
       "123    1\n",
       "124    1\n",
       "125    1\n",
       "126    1\n",
       "127    1\n",
       "Name: diagnosis, Length: 128, dtype: int64"
      ]
     },
     "execution_count": 11,
     "metadata": {},
     "output_type": "execute_result"
    }
   ],
   "source": [
    "from sklearn.preprocessing import LabelEncoder\n",
    "le=LabelEncoder()\n",
    "LC.iloc[:,1] = le.fit_transform(LC.iloc[:,1].values)\n",
    "LC.iloc[:,1]"
   ]
  },
  {
   "cell_type": "code",
   "execution_count": 12,
   "metadata": {
    "colab": {
     "base_uri": "https://localhost:8080/",
     "height": 206
    },
    "executionInfo": {
     "elapsed": 24,
     "status": "ok",
     "timestamp": 1653068936972,
     "user": {
      "displayName": "FAİDE KARATAŞ",
      "userId": "05982952141663902823"
     },
     "user_tz": -180
    },
    "id": "Zht3p6SyPyq3",
    "outputId": "4daf04c5-05eb-4d61-d5d9-061f3aac09f6"
   },
   "outputs": [
    {
     "data": {
      "text/html": [
       "\n",
       "  <div id=\"df-0efadc0a-44d5-42ae-a842-50b7b59ddae3\">\n",
       "    <div class=\"colab-df-container\">\n",
       "      <div>\n",
       "<style scoped>\n",
       "    .dataframe tbody tr th:only-of-type {\n",
       "        vertical-align: middle;\n",
       "    }\n",
       "\n",
       "    .dataframe tbody tr th {\n",
       "        vertical-align: top;\n",
       "    }\n",
       "\n",
       "    .dataframe thead th {\n",
       "        text-align: right;\n",
       "    }\n",
       "</style>\n",
       "<table border=\"1\" class=\"dataframe\">\n",
       "  <thead>\n",
       "    <tr style=\"text-align: right;\">\n",
       "      <th></th>\n",
       "      <th>id</th>\n",
       "      <th>diagnosis</th>\n",
       "      <th>TP53</th>\n",
       "      <th>PTEN</th>\n",
       "      <th>EGFR</th>\n",
       "      <th>KRAS</th>\n",
       "      <th>FGFR1</th>\n",
       "      <th>ALK</th>\n",
       "      <th>METex14</th>\n",
       "      <th>MET</th>\n",
       "      <th>BRAF</th>\n",
       "      <th>PIK3CA</th>\n",
       "      <th>ROS1</th>\n",
       "      <th>HER2</th>\n",
       "      <th>RET</th>\n",
       "    </tr>\n",
       "  </thead>\n",
       "  <tbody>\n",
       "    <tr>\n",
       "      <th>0</th>\n",
       "      <td>1001</td>\n",
       "      <td>0</td>\n",
       "      <td>0</td>\n",
       "      <td>0</td>\n",
       "      <td>0</td>\n",
       "      <td>0</td>\n",
       "      <td>0</td>\n",
       "      <td>0</td>\n",
       "      <td>0</td>\n",
       "      <td>1</td>\n",
       "      <td>0</td>\n",
       "      <td>0</td>\n",
       "      <td>0</td>\n",
       "      <td>0</td>\n",
       "      <td>0</td>\n",
       "    </tr>\n",
       "    <tr>\n",
       "      <th>1</th>\n",
       "      <td>1002</td>\n",
       "      <td>0</td>\n",
       "      <td>0</td>\n",
       "      <td>0</td>\n",
       "      <td>0</td>\n",
       "      <td>0</td>\n",
       "      <td>0</td>\n",
       "      <td>0</td>\n",
       "      <td>0</td>\n",
       "      <td>0</td>\n",
       "      <td>1</td>\n",
       "      <td>0</td>\n",
       "      <td>0</td>\n",
       "      <td>0</td>\n",
       "      <td>0</td>\n",
       "    </tr>\n",
       "    <tr>\n",
       "      <th>2</th>\n",
       "      <td>1003</td>\n",
       "      <td>0</td>\n",
       "      <td>0</td>\n",
       "      <td>0</td>\n",
       "      <td>0</td>\n",
       "      <td>0</td>\n",
       "      <td>0</td>\n",
       "      <td>0</td>\n",
       "      <td>0</td>\n",
       "      <td>0</td>\n",
       "      <td>0</td>\n",
       "      <td>0</td>\n",
       "      <td>1</td>\n",
       "      <td>0</td>\n",
       "      <td>0</td>\n",
       "    </tr>\n",
       "    <tr>\n",
       "      <th>3</th>\n",
       "      <td>1004</td>\n",
       "      <td>0</td>\n",
       "      <td>0</td>\n",
       "      <td>0</td>\n",
       "      <td>0</td>\n",
       "      <td>0</td>\n",
       "      <td>0</td>\n",
       "      <td>1</td>\n",
       "      <td>0</td>\n",
       "      <td>0</td>\n",
       "      <td>0</td>\n",
       "      <td>0</td>\n",
       "      <td>0</td>\n",
       "      <td>0</td>\n",
       "      <td>0</td>\n",
       "    </tr>\n",
       "    <tr>\n",
       "      <th>4</th>\n",
       "      <td>1005</td>\n",
       "      <td>1</td>\n",
       "      <td>1</td>\n",
       "      <td>0</td>\n",
       "      <td>0</td>\n",
       "      <td>0</td>\n",
       "      <td>1</td>\n",
       "      <td>0</td>\n",
       "      <td>0</td>\n",
       "      <td>0</td>\n",
       "      <td>0</td>\n",
       "      <td>0</td>\n",
       "      <td>0</td>\n",
       "      <td>0</td>\n",
       "      <td>0</td>\n",
       "    </tr>\n",
       "  </tbody>\n",
       "</table>\n",
       "</div>\n",
       "      <button class=\"colab-df-convert\" onclick=\"convertToInteractive('df-0efadc0a-44d5-42ae-a842-50b7b59ddae3')\"\n",
       "              title=\"Convert this dataframe to an interactive table.\"\n",
       "              style=\"display:none;\">\n",
       "        \n",
       "  <svg xmlns=\"http://www.w3.org/2000/svg\" height=\"24px\"viewBox=\"0 0 24 24\"\n",
       "       width=\"24px\">\n",
       "    <path d=\"M0 0h24v24H0V0z\" fill=\"none\"/>\n",
       "    <path d=\"M18.56 5.44l.94 2.06.94-2.06 2.06-.94-2.06-.94-.94-2.06-.94 2.06-2.06.94zm-11 1L8.5 8.5l.94-2.06 2.06-.94-2.06-.94L8.5 2.5l-.94 2.06-2.06.94zm10 10l.94 2.06.94-2.06 2.06-.94-2.06-.94-.94-2.06-.94 2.06-2.06.94z\"/><path d=\"M17.41 7.96l-1.37-1.37c-.4-.4-.92-.59-1.43-.59-.52 0-1.04.2-1.43.59L10.3 9.45l-7.72 7.72c-.78.78-.78 2.05 0 2.83L4 21.41c.39.39.9.59 1.41.59.51 0 1.02-.2 1.41-.59l7.78-7.78 2.81-2.81c.8-.78.8-2.07 0-2.86zM5.41 20L4 18.59l7.72-7.72 1.47 1.35L5.41 20z\"/>\n",
       "  </svg>\n",
       "      </button>\n",
       "      \n",
       "  <style>\n",
       "    .colab-df-container {\n",
       "      display:flex;\n",
       "      flex-wrap:wrap;\n",
       "      gap: 12px;\n",
       "    }\n",
       "\n",
       "    .colab-df-convert {\n",
       "      background-color: #E8F0FE;\n",
       "      border: none;\n",
       "      border-radius: 50%;\n",
       "      cursor: pointer;\n",
       "      display: none;\n",
       "      fill: #1967D2;\n",
       "      height: 32px;\n",
       "      padding: 0 0 0 0;\n",
       "      width: 32px;\n",
       "    }\n",
       "\n",
       "    .colab-df-convert:hover {\n",
       "      background-color: #E2EBFA;\n",
       "      box-shadow: 0px 1px 2px rgba(60, 64, 67, 0.3), 0px 1px 3px 1px rgba(60, 64, 67, 0.15);\n",
       "      fill: #174EA6;\n",
       "    }\n",
       "\n",
       "    [theme=dark] .colab-df-convert {\n",
       "      background-color: #3B4455;\n",
       "      fill: #D2E3FC;\n",
       "    }\n",
       "\n",
       "    [theme=dark] .colab-df-convert:hover {\n",
       "      background-color: #434B5C;\n",
       "      box-shadow: 0px 1px 3px 1px rgba(0, 0, 0, 0.15);\n",
       "      filter: drop-shadow(0px 1px 2px rgba(0, 0, 0, 0.3));\n",
       "      fill: #FFFFFF;\n",
       "    }\n",
       "  </style>\n",
       "\n",
       "      <script>\n",
       "        const buttonEl =\n",
       "          document.querySelector('#df-0efadc0a-44d5-42ae-a842-50b7b59ddae3 button.colab-df-convert');\n",
       "        buttonEl.style.display =\n",
       "          google.colab.kernel.accessAllowed ? 'block' : 'none';\n",
       "\n",
       "        async function convertToInteractive(key) {\n",
       "          const element = document.querySelector('#df-0efadc0a-44d5-42ae-a842-50b7b59ddae3');\n",
       "          const dataTable =\n",
       "            await google.colab.kernel.invokeFunction('convertToInteractive',\n",
       "                                                     [key], {});\n",
       "          if (!dataTable) return;\n",
       "\n",
       "          const docLinkHtml = 'Like what you see? Visit the ' +\n",
       "            '<a target=\"_blank\" href=https://colab.research.google.com/notebooks/data_table.ipynb>data table notebook</a>'\n",
       "            + ' to learn more about interactive tables.';\n",
       "          element.innerHTML = '';\n",
       "          dataTable['output_type'] = 'display_data';\n",
       "          await google.colab.output.renderOutput(dataTable, element);\n",
       "          const docLink = document.createElement('div');\n",
       "          docLink.innerHTML = docLinkHtml;\n",
       "          element.appendChild(docLink);\n",
       "        }\n",
       "      </script>\n",
       "    </div>\n",
       "  </div>\n",
       "  "
      ],
      "text/plain": [
       "     id  diagnosis  TP53  PTEN  EGFR  KRAS  FGFR1  ALK  METex14  MET  BRAF  \\\n",
       "0  1001          0     0     0     0     0      0    0        0    1     0   \n",
       "1  1002          0     0     0     0     0      0    0        0    0     1   \n",
       "2  1003          0     0     0     0     0      0    0        0    0     0   \n",
       "3  1004          0     0     0     0     0      0    1        0    0     0   \n",
       "4  1005          1     1     0     0     0      1    0        0    0     0   \n",
       "\n",
       "   PIK3CA  ROS1  HER2  RET  \n",
       "0       0     0     0    0  \n",
       "1       0     0     0    0  \n",
       "2       0     1     0    0  \n",
       "3       0     0     0    0  \n",
       "4       0     0     0    0  "
      ]
     },
     "execution_count": 12,
     "metadata": {},
     "output_type": "execute_result"
    }
   ],
   "source": [
    "LC.head(5)"
   ]
  },
  {
   "cell_type": "code",
   "execution_count": 13,
   "metadata": {
    "colab": {
     "base_uri": "https://localhost:8080/",
     "height": 580
    },
    "executionInfo": {
     "elapsed": 22,
     "status": "ok",
     "timestamp": 1653068936974,
     "user": {
      "displayName": "FAİDE KARATAŞ",
      "userId": "05982952141663902823"
     },
     "user_tz": -180
    },
    "id": "sJ3LCIEeP0-F",
    "outputId": "3e4bf6a2-77a1-45d7-cf71-47bf2adeebf4"
   },
   "outputs": [
    {
     "data": {
      "text/html": [
       "\n",
       "  <div id=\"df-4e794574-e92f-435d-9987-400d4cce0357\">\n",
       "    <div class=\"colab-df-container\">\n",
       "      <div>\n",
       "<style scoped>\n",
       "    .dataframe tbody tr th:only-of-type {\n",
       "        vertical-align: middle;\n",
       "    }\n",
       "\n",
       "    .dataframe tbody tr th {\n",
       "        vertical-align: top;\n",
       "    }\n",
       "\n",
       "    .dataframe thead th {\n",
       "        text-align: right;\n",
       "    }\n",
       "</style>\n",
       "<table border=\"1\" class=\"dataframe\">\n",
       "  <thead>\n",
       "    <tr style=\"text-align: right;\">\n",
       "      <th></th>\n",
       "      <th>diagnosis</th>\n",
       "      <th>TP53</th>\n",
       "      <th>PTEN</th>\n",
       "      <th>EGFR</th>\n",
       "      <th>KRAS</th>\n",
       "      <th>FGFR1</th>\n",
       "      <th>ALK</th>\n",
       "      <th>METex14</th>\n",
       "      <th>MET</th>\n",
       "      <th>BRAF</th>\n",
       "      <th>PIK3CA</th>\n",
       "    </tr>\n",
       "  </thead>\n",
       "  <tbody>\n",
       "    <tr>\n",
       "      <th>diagnosis</th>\n",
       "      <td>1.000000</td>\n",
       "      <td>4.517812e-01</td>\n",
       "      <td>0.051555</td>\n",
       "      <td>0.205849</td>\n",
       "      <td>0.187579</td>\n",
       "      <td>2.469413e-01</td>\n",
       "      <td>0.036105</td>\n",
       "      <td>-0.053838</td>\n",
       "      <td>0.074035</td>\n",
       "      <td>-0.053838</td>\n",
       "      <td>-0.190104</td>\n",
       "    </tr>\n",
       "    <tr>\n",
       "      <th>TP53</th>\n",
       "      <td>0.451781</td>\n",
       "      <td>1.000000e+00</td>\n",
       "      <td>-0.268291</td>\n",
       "      <td>0.114539</td>\n",
       "      <td>0.050921</td>\n",
       "      <td>-1.888312e-17</td>\n",
       "      <td>0.030557</td>\n",
       "      <td>0.129099</td>\n",
       "      <td>0.103081</td>\n",
       "      <td>-0.064550</td>\n",
       "      <td>-0.221766</td>\n",
       "    </tr>\n",
       "    <tr>\n",
       "      <th>PTEN</th>\n",
       "      <td>0.051555</td>\n",
       "      <td>-2.682910e-01</td>\n",
       "      <td>1.000000</td>\n",
       "      <td>0.154165</td>\n",
       "      <td>0.042592</td>\n",
       "      <td>1.515102e-01</td>\n",
       "      <td>0.008198</td>\n",
       "      <td>-0.093722</td>\n",
       "      <td>-0.069953</td>\n",
       "      <td>-0.093722</td>\n",
       "      <td>-0.043165</td>\n",
       "    </tr>\n",
       "    <tr>\n",
       "      <th>EGFR</th>\n",
       "      <td>0.205849</td>\n",
       "      <td>1.145388e-01</td>\n",
       "      <td>0.154165</td>\n",
       "      <td>1.000000</td>\n",
       "      <td>-0.096373</td>\n",
       "      <td>4.576541e-02</td>\n",
       "      <td>-0.010500</td>\n",
       "      <td>0.080272</td>\n",
       "      <td>-0.033171</td>\n",
       "      <td>-0.054923</td>\n",
       "      <td>-0.085879</td>\n",
       "    </tr>\n",
       "    <tr>\n",
       "      <th>KRAS</th>\n",
       "      <td>0.187579</td>\n",
       "      <td>5.092065e-02</td>\n",
       "      <td>0.042592</td>\n",
       "      <td>-0.096373</td>\n",
       "      <td>1.000000</td>\n",
       "      <td>1.424219e-01</td>\n",
       "      <td>0.083503</td>\n",
       "      <td>-0.100799</td>\n",
       "      <td>-0.009915</td>\n",
       "      <td>-0.100799</td>\n",
       "      <td>0.094104</td>\n",
       "    </tr>\n",
       "    <tr>\n",
       "      <th>FGFR1</th>\n",
       "      <td>0.246941</td>\n",
       "      <td>-1.888312e-17</td>\n",
       "      <td>0.151510</td>\n",
       "      <td>0.045765</td>\n",
       "      <td>0.142422</td>\n",
       "      <td>1.000000e+00</td>\n",
       "      <td>0.076225</td>\n",
       "      <td>-0.058554</td>\n",
       "      <td>-0.127273</td>\n",
       "      <td>0.019518</td>\n",
       "      <td>0.061468</td>\n",
       "    </tr>\n",
       "    <tr>\n",
       "      <th>ALK</th>\n",
       "      <td>0.036105</td>\n",
       "      <td>3.055662e-02</td>\n",
       "      <td>0.008198</td>\n",
       "      <td>-0.010500</td>\n",
       "      <td>0.083503</td>\n",
       "      <td>7.622548e-02</td>\n",
       "      <td>1.000000</td>\n",
       "      <td>-0.071007</td>\n",
       "      <td>-0.066146</td>\n",
       "      <td>-0.071007</td>\n",
       "      <td>-0.060988</td>\n",
       "    </tr>\n",
       "    <tr>\n",
       "      <th>METex14</th>\n",
       "      <td>-0.053838</td>\n",
       "      <td>1.290994e-01</td>\n",
       "      <td>-0.093722</td>\n",
       "      <td>0.080272</td>\n",
       "      <td>-0.100799</td>\n",
       "      <td>-5.855400e-02</td>\n",
       "      <td>-0.071007</td>\n",
       "      <td>1.000000</td>\n",
       "      <td>-0.062103</td>\n",
       "      <td>0.066667</td>\n",
       "      <td>-0.057260</td>\n",
       "    </tr>\n",
       "    <tr>\n",
       "      <th>MET</th>\n",
       "      <td>0.074035</td>\n",
       "      <td>1.030812e-01</td>\n",
       "      <td>-0.069953</td>\n",
       "      <td>-0.033171</td>\n",
       "      <td>-0.009915</td>\n",
       "      <td>-1.272727e-01</td>\n",
       "      <td>-0.066146</td>\n",
       "      <td>-0.062103</td>\n",
       "      <td>1.000000</td>\n",
       "      <td>-0.062103</td>\n",
       "      <td>-0.053340</td>\n",
       "    </tr>\n",
       "    <tr>\n",
       "      <th>BRAF</th>\n",
       "      <td>-0.053838</td>\n",
       "      <td>-6.454972e-02</td>\n",
       "      <td>-0.093722</td>\n",
       "      <td>-0.054923</td>\n",
       "      <td>-0.100799</td>\n",
       "      <td>1.951800e-02</td>\n",
       "      <td>-0.071007</td>\n",
       "      <td>0.066667</td>\n",
       "      <td>-0.062103</td>\n",
       "      <td>1.000000</td>\n",
       "      <td>0.095433</td>\n",
       "    </tr>\n",
       "    <tr>\n",
       "      <th>PIK3CA</th>\n",
       "      <td>-0.190104</td>\n",
       "      <td>-2.217664e-01</td>\n",
       "      <td>-0.043165</td>\n",
       "      <td>-0.085879</td>\n",
       "      <td>0.094104</td>\n",
       "      <td>6.146786e-02</td>\n",
       "      <td>-0.060988</td>\n",
       "      <td>-0.057260</td>\n",
       "      <td>-0.053340</td>\n",
       "      <td>0.095433</td>\n",
       "      <td>1.000000</td>\n",
       "    </tr>\n",
       "  </tbody>\n",
       "</table>\n",
       "</div>\n",
       "      <button class=\"colab-df-convert\" onclick=\"convertToInteractive('df-4e794574-e92f-435d-9987-400d4cce0357')\"\n",
       "              title=\"Convert this dataframe to an interactive table.\"\n",
       "              style=\"display:none;\">\n",
       "        \n",
       "  <svg xmlns=\"http://www.w3.org/2000/svg\" height=\"24px\"viewBox=\"0 0 24 24\"\n",
       "       width=\"24px\">\n",
       "    <path d=\"M0 0h24v24H0V0z\" fill=\"none\"/>\n",
       "    <path d=\"M18.56 5.44l.94 2.06.94-2.06 2.06-.94-2.06-.94-.94-2.06-.94 2.06-2.06.94zm-11 1L8.5 8.5l.94-2.06 2.06-.94-2.06-.94L8.5 2.5l-.94 2.06-2.06.94zm10 10l.94 2.06.94-2.06 2.06-.94-2.06-.94-.94-2.06-.94 2.06-2.06.94z\"/><path d=\"M17.41 7.96l-1.37-1.37c-.4-.4-.92-.59-1.43-.59-.52 0-1.04.2-1.43.59L10.3 9.45l-7.72 7.72c-.78.78-.78 2.05 0 2.83L4 21.41c.39.39.9.59 1.41.59.51 0 1.02-.2 1.41-.59l7.78-7.78 2.81-2.81c.8-.78.8-2.07 0-2.86zM5.41 20L4 18.59l7.72-7.72 1.47 1.35L5.41 20z\"/>\n",
       "  </svg>\n",
       "      </button>\n",
       "      \n",
       "  <style>\n",
       "    .colab-df-container {\n",
       "      display:flex;\n",
       "      flex-wrap:wrap;\n",
       "      gap: 12px;\n",
       "    }\n",
       "\n",
       "    .colab-df-convert {\n",
       "      background-color: #E8F0FE;\n",
       "      border: none;\n",
       "      border-radius: 50%;\n",
       "      cursor: pointer;\n",
       "      display: none;\n",
       "      fill: #1967D2;\n",
       "      height: 32px;\n",
       "      padding: 0 0 0 0;\n",
       "      width: 32px;\n",
       "    }\n",
       "\n",
       "    .colab-df-convert:hover {\n",
       "      background-color: #E2EBFA;\n",
       "      box-shadow: 0px 1px 2px rgba(60, 64, 67, 0.3), 0px 1px 3px 1px rgba(60, 64, 67, 0.15);\n",
       "      fill: #174EA6;\n",
       "    }\n",
       "\n",
       "    [theme=dark] .colab-df-convert {\n",
       "      background-color: #3B4455;\n",
       "      fill: #D2E3FC;\n",
       "    }\n",
       "\n",
       "    [theme=dark] .colab-df-convert:hover {\n",
       "      background-color: #434B5C;\n",
       "      box-shadow: 0px 1px 3px 1px rgba(0, 0, 0, 0.15);\n",
       "      filter: drop-shadow(0px 1px 2px rgba(0, 0, 0, 0.3));\n",
       "      fill: #FFFFFF;\n",
       "    }\n",
       "  </style>\n",
       "\n",
       "      <script>\n",
       "        const buttonEl =\n",
       "          document.querySelector('#df-4e794574-e92f-435d-9987-400d4cce0357 button.colab-df-convert');\n",
       "        buttonEl.style.display =\n",
       "          google.colab.kernel.accessAllowed ? 'block' : 'none';\n",
       "\n",
       "        async function convertToInteractive(key) {\n",
       "          const element = document.querySelector('#df-4e794574-e92f-435d-9987-400d4cce0357');\n",
       "          const dataTable =\n",
       "            await google.colab.kernel.invokeFunction('convertToInteractive',\n",
       "                                                     [key], {});\n",
       "          if (!dataTable) return;\n",
       "\n",
       "          const docLinkHtml = 'Like what you see? Visit the ' +\n",
       "            '<a target=\"_blank\" href=https://colab.research.google.com/notebooks/data_table.ipynb>data table notebook</a>'\n",
       "            + ' to learn more about interactive tables.';\n",
       "          element.innerHTML = '';\n",
       "          dataTable['output_type'] = 'display_data';\n",
       "          await google.colab.output.renderOutput(dataTable, element);\n",
       "          const docLink = document.createElement('div');\n",
       "          docLink.innerHTML = docLinkHtml;\n",
       "          element.appendChild(docLink);\n",
       "        }\n",
       "      </script>\n",
       "    </div>\n",
       "  </div>\n",
       "  "
      ],
      "text/plain": [
       "           diagnosis          TP53      PTEN      EGFR      KRAS  \\\n",
       "diagnosis   1.000000  4.517812e-01  0.051555  0.205849  0.187579   \n",
       "TP53        0.451781  1.000000e+00 -0.268291  0.114539  0.050921   \n",
       "PTEN        0.051555 -2.682910e-01  1.000000  0.154165  0.042592   \n",
       "EGFR        0.205849  1.145388e-01  0.154165  1.000000 -0.096373   \n",
       "KRAS        0.187579  5.092065e-02  0.042592 -0.096373  1.000000   \n",
       "FGFR1       0.246941 -1.888312e-17  0.151510  0.045765  0.142422   \n",
       "ALK         0.036105  3.055662e-02  0.008198 -0.010500  0.083503   \n",
       "METex14    -0.053838  1.290994e-01 -0.093722  0.080272 -0.100799   \n",
       "MET         0.074035  1.030812e-01 -0.069953 -0.033171 -0.009915   \n",
       "BRAF       -0.053838 -6.454972e-02 -0.093722 -0.054923 -0.100799   \n",
       "PIK3CA     -0.190104 -2.217664e-01 -0.043165 -0.085879  0.094104   \n",
       "\n",
       "                  FGFR1       ALK   METex14       MET      BRAF    PIK3CA  \n",
       "diagnosis  2.469413e-01  0.036105 -0.053838  0.074035 -0.053838 -0.190104  \n",
       "TP53      -1.888312e-17  0.030557  0.129099  0.103081 -0.064550 -0.221766  \n",
       "PTEN       1.515102e-01  0.008198 -0.093722 -0.069953 -0.093722 -0.043165  \n",
       "EGFR       4.576541e-02 -0.010500  0.080272 -0.033171 -0.054923 -0.085879  \n",
       "KRAS       1.424219e-01  0.083503 -0.100799 -0.009915 -0.100799  0.094104  \n",
       "FGFR1      1.000000e+00  0.076225 -0.058554 -0.127273  0.019518  0.061468  \n",
       "ALK        7.622548e-02  1.000000 -0.071007 -0.066146 -0.071007 -0.060988  \n",
       "METex14   -5.855400e-02 -0.071007  1.000000 -0.062103  0.066667 -0.057260  \n",
       "MET       -1.272727e-01 -0.066146 -0.062103  1.000000 -0.062103 -0.053340  \n",
       "BRAF       1.951800e-02 -0.071007  0.066667 -0.062103  1.000000  0.095433  \n",
       "PIK3CA     6.146786e-02 -0.060988 -0.057260 -0.053340  0.095433  1.000000  "
      ]
     },
     "execution_count": 13,
     "metadata": {},
     "output_type": "execute_result"
    }
   ],
   "source": [
    "LC.iloc[:,1:12].corr()"
   ]
  },
  {
   "cell_type": "code",
   "execution_count": 14,
   "metadata": {
    "colab": {
     "base_uri": "https://localhost:8080/",
     "height": 613
    },
    "executionInfo": {
     "elapsed": 1155,
     "status": "ok",
     "timestamp": 1653068938110,
     "user": {
      "displayName": "FAİDE KARATAŞ",
      "userId": "05982952141663902823"
     },
     "user_tz": -180
    },
    "id": "i5s6VjFGP2p1",
    "outputId": "379646ae-0e15-4d3c-dcef-9e275f8672dc"
   },
   "outputs": [
    {
     "data": {
      "text/plain": [
       "<matplotlib.axes._subplots.AxesSubplot at 0x7efe8a408b50>"
      ]
     },
     "execution_count": 14,
     "metadata": {},
     "output_type": "execute_result"
    },
    {
     "data": {
      "image/png": "[encoded data removed]",
      "text/plain": [
       "<Figure size 720x720 with 2 Axes>"
      ]
     },
     "metadata": {
      "needs_background": "light"
     },
     "output_type": "display_data"
    }
   ],
   "source": [
    "plt.figure(figsize=(10,10))\n",
    "sns.heatmap(LC.iloc[:,1:12].corr(), annot=True , fmt='.0%')"
   ]
  },
  {
   "cell_type": "code",
   "execution_count": 15,
   "metadata": {
    "colab": {
     "base_uri": "https://localhost:8080/"
    },
    "executionInfo": {
     "elapsed": 9,
     "status": "ok",
     "timestamp": 1653068938111,
     "user": {
      "displayName": "FAİDE KARATAŞ",
      "userId": "05982952141663902823"
     },
     "user_tz": -180
    },
    "id": "SVdEDM2zP4td",
    "outputId": "a5fb56b8-7daf-4ecf-a148-8fa462bfd550"
   },
   "outputs": [
    {
     "data": {
      "text/plain": [
       "pandas.core.frame.DataFrame"
      ]
     },
     "execution_count": 15,
     "metadata": {},
     "output_type": "execute_result"
    }
   ],
   "source": [
    "X = LC.iloc[:,2:31].values # contain all of the rows of data\n",
    "Y = LC.iloc[:,1].values    #\n",
    "\n",
    "type(LC)"
   ]
  },
  {
   "cell_type": "code",
   "execution_count": 16,
   "metadata": {
    "executionInfo": {
     "elapsed": 8,
     "status": "ok",
     "timestamp": 1653068938113,
     "user": {
      "displayName": "FAİDE KARATAŞ",
      "userId": "05982952141663902823"
     },
     "user_tz": -180
    },
    "id": "9y7Uk_VxP8nR"
   },
   "outputs": [],
   "source": [
    "from sklearn.model_selection import train_test_split\n",
    "X_train, X_test, Y_train, Y_test = train_test_split(X, Y, test_size = 0.25, random_state = 42)"
   ]
  },
  {
   "cell_type": "code",
   "execution_count": 17,
   "metadata": {
    "executionInfo": {
     "elapsed": 9,
     "status": "ok",
     "timestamp": 1653068938114,
     "user": {
      "displayName": "FAİDE KARATAŞ",
      "userId": "05982952141663902823"
     },
     "user_tz": -180
    },
    "id": "08g_Hjw0P-u6"
   },
   "outputs": [],
   "source": [
    "from sklearn.preprocessing import StandardScaler\n",
    "sc = StandardScaler()\n",
    "X_train = sc.fit_transform(X_train)     # eğitim verilerimizi dönüştürmek(özellikler)\n",
    "X_test = sc.transform(X_test)"
   ]
  },
  {
   "cell_type": "code",
   "execution_count": 18,
   "metadata": {
    "colab": {
     "base_uri": "https://localhost:8080/"
    },
    "executionInfo": {
     "elapsed": 572,
     "status": "ok",
     "timestamp": 1653068938677,
     "user": {
      "displayName": "FAİDE KARATAŞ",
      "userId": "05982952141663902823"
     },
     "user_tz": -180
    },
    "id": "4L4w0dqBTZzk",
    "outputId": "46121973-e724-4198-80ef-c6c20be88e89"
   },
   "outputs": [
    {
     "name": "stdout",
     "output_type": "stream",
     "text": [
      "Accuracy on training set: 0.927\n",
      "Accuracy on test set: 0.812\n"
     ]
    }
   ],
   "source": [
    "from sklearn.tree import DecisionTreeClassifier \n",
    "\n",
    "tree = DecisionTreeClassifier(criterion = 'gini',random_state=0)\n",
    "tree.fit(X_train, Y_train)\n",
    "print(\"Accuracy on training set: {:.3f}\".format(tree.score(X_train, Y_train)))\n",
    "print(\"Accuracy on test set: {:.3f}\".format(tree.score(X_test, Y_test)))"
   ]
  },
  {
   "cell_type": "code",
   "execution_count": 19,
   "metadata": {
    "colab": {
     "base_uri": "https://localhost:8080/",
     "height": 312
    },
    "executionInfo": {
     "elapsed": 29,
     "status": "ok",
     "timestamp": 1653068938679,
     "user": {
      "displayName": "FAİDE KARATAŞ",
      "userId": "05982952141663902823"
     },
     "user_tz": -180
    },
    "id": "d2Df6coNQKuM",
    "outputId": "0b297d45-3327-4131-bb9b-cee07b9a8400"
   },
   "outputs": [
    {
     "data": {
      "text/plain": [
       "Text(0.5, 15.0, 'Predicted label')"
      ]
     },
     "execution_count": 19,
     "metadata": {},
     "output_type": "execute_result"
    },
    {
     "data": {
      "image/png": "[encoded data removed]",
      "text/plain": [
       "<Figure size 432x288 with 2 Axes>"
      ]
     },
     "metadata": {
      "needs_background": "light"
     },
     "output_type": "display_data"
    }
   ],
   "source": [
    "from sklearn.metrics import confusion_matrix\n",
    "from sklearn import metrics\n",
    "y_pred = tree.predict(X_test)\n",
    "confusion_matrix(Y_test,y_pred) \n",
    "pd.crosstab(Y_test, y_pred, rownames=['True'], colnames=['Predicted'], margins=True)\n",
    "y_pred = tree.predict(X_test)\n",
    "cnf_matrix = metrics.confusion_matrix(Y_test, y_pred)\n",
    "p = sns.heatmap(pd.DataFrame(cnf_matrix), annot=True, cmap=\"YlGnBu\" ,fmt='g')\n",
    "plt.title('Confusion matrix', y=1.1)\n",
    "plt.ylabel('Actual label')\n",
    "plt.xlabel('Predicted label')"
   ]
  }
 ],
 "metadata": {
  "colab": {
   "authorship_tag": "ABX9TyNdCqqkvCJqgnFNIvvMT9mg",
   "collapsed_sections": [],
   "mount_file_id": "1St0dSbPcF9Tm81xMC7oUgSslWFj1Ptxh",
   "name": "LC.csv Karar ağaçları.ipynb",
   "provenance": []
  },
  "kernelspec": {
   "display_name": "Python 3 (ipykernel)",
   "language": "python",
   "name": "python3"
  },
  "language_info": {
   "codemirror_mode": {
    "name": "ipython",
    "version": 3
   },
   "file_extension": ".py",
   "mimetype": "text/x-python",
   "name": "python",
   "nbconvert_exporter": "python",
   "pygments_lexer": "ipython3",
   "version": "3.9.7"
  }
 },
 "nbformat": 4,
 "nbformat_minor": 1
}
